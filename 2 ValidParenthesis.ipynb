{
 "cells": [
  {
   "cell_type": "markdown",
   "id": "eddf8afd",
   "metadata": {},
   "source": [
    "# Valid Parentheses\n",
    "https://leetcode.com/problems/valid-parentheses/"
   ]
  },
  {
   "cell_type": "markdown",
   "id": "e4b7c6c1",
   "metadata": {},
   "source": []
  },
  {
   "cell_type": "code",
   "execution_count": 1,
   "id": "69e88853",
   "metadata": {},
   "outputs": [],
   "source": [
    "class Solution:\n",
    "    def isValid(self, s: str) -> bool:\n",
    "        strHash = []\n",
    "        listParentheses = [\"(\",\")\",\"{\",\"}\",\"[\",\"]\"]\n",
    "        dictOpenParentheses = {\")\":\"(\", \"}\":\"{\", \"]\":\"[\"}\n",
    "        \n",
    "        for c in s:                             \n",
    "            if c in listParentheses:\n",
    "                if c in dictOpenParentheses:\n",
    "                    openingParentheses = dictOpenParentheses[c]\n",
    "                    \n",
    "                    if (len(strHash)>0 and strHash[-1] == openingParentheses):\n",
    "                        strHash.pop()\n",
    "                    else:\n",
    "                        strHash.append(c)    \n",
    "                else:\n",
    "                    strHash.append(c)\n",
    "                     \n",
    "        if(len(strHash) == 0):\n",
    "            return True\n",
    "        else:\n",
    "            return False\n"
   ]
  },
  {
   "cell_type": "code",
   "execution_count": 2,
   "id": "0167cb4d",
   "metadata": {},
   "outputs": [],
   "source": [
    "sol = Solution()"
   ]
  },
  {
   "cell_type": "code",
   "execution_count": 5,
   "id": "bfe38614",
   "metadata": {},
   "outputs": [
    {
     "data": {
      "text/plain": [
       "True"
      ]
     },
     "execution_count": 5,
     "metadata": {},
     "output_type": "execute_result"
    }
   ],
   "source": [
    "sol.isValid(\"[]\")"
   ]
  },
  {
   "cell_type": "code",
   "execution_count": 8,
   "id": "d764ebbd",
   "metadata": {},
   "outputs": [
    {
     "data": {
      "text/plain": [
       "True"
      ]
     },
     "execution_count": 8,
     "metadata": {},
     "output_type": "execute_result"
    }
   ],
   "source": [
    "sol.isValid(\"([{}])\")"
   ]
  },
  {
   "cell_type": "code",
   "execution_count": null,
   "id": "d25e2102",
   "metadata": {},
   "outputs": [],
   "source": []
  }
 ],
 "metadata": {
  "kernelspec": {
   "display_name": "Python 3 (ipykernel)",
   "language": "python",
   "name": "python3"
  },
  "language_info": {
   "codemirror_mode": {
    "name": "ipython",
    "version": 3
   },
   "file_extension": ".py",
   "mimetype": "text/x-python",
   "name": "python",
   "nbconvert_exporter": "python",
   "pygments_lexer": "ipython3",
   "version": "3.9.12"
  }
 },
 "nbformat": 4,
 "nbformat_minor": 5
}
